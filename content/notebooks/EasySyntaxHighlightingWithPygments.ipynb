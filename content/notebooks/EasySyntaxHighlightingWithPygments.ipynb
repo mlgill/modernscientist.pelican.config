{
 "cells": [
  {
   "cell_type": "markdown",
   "metadata": {},
   "source": [
    "# Easy Syntax Highlighting With Pygments\n",
    "*This notebook first appeared as a [blog](http://themodernscientist.com/posts/2013/2013-10-24-easy_syntax_highlighting_with_pygments/) post on [themodernscientist](http://themodernscientist.com).  \n",
    "License: [BSD](http://opensource.org/licenses/BSD-3-Clause) (C) 2013, Michelle L. Gill. Feel free to use, distribute, and modify with the above attribution.*"
   ]
  },
  {
   "cell_type": "markdown",
   "metadata": {},
   "source": [
    "As a scientist who splits her time between both wet lab and computational work, I have learned the importance of saving code snippets for future reference. These snippets are handy when I later can't recall a clever Pandas [indexing trick](http://pandas.pydata.org/pandas-docs/stable/indexing.html) or when I want to share code with a colleague."
   ]
  },
  {
   "cell_type": "markdown",
   "metadata": {},
   "source": [
    "I spend most of my time writing code in text editors that have syntax highlighting and I prefer my snippets similarly highlighted. While there are many syntax highlighting engines and websites in existence, one of the most powerful engines happens to be [Pygments](http://pygments.org/), which is python-based, as the name implies."
   ]
  },
  {
   "cell_type": "markdown",
   "metadata": {},
   "source": [
    "Pygments supports an [incredible list](http://pygments.org/languages/) of input languages, called lexers, and has numerous [formatters](http://pygments.org/docs/formatters/) for output. There are also many options available for output [colors and styles](http://pygments.org/docs/styles/). All of these aspects are customizable as well. Lastly, Pygments has few dependencies and can be installed using most Python package managers.\n",
    "\n",
    "While Pygments does include many styles, including my favorite, [Monokai](http://www.monokai.nl/blog/2006/07/15/textmate-color-theme), it doesn't have a version of Monokai with a light background. For storing and sharing snippets, I prefer a light background to a dark one. So, I created my own Monokai Light style based on the color scheme [here](https://bitbucket.org/sjl/stevelosh/src/a30885eba5d365da12b264d4beac7596ce1b6ada/media/css/pygments-monokai-light.css?at=default). The style I created can be downloaded directly from [here](https://github.com/mlgill/macports-pygments-monokailight/blob/master/files/monokailight/monokailight.py) and placed in the style directory within Pygments, or it can be installed using either this [conda package](https://anaconda.org/mlgill/pygments-style-monokailight) or with MacPorts by cloning this [GitHub repository](https://github.com/mlgill/macports-pygments-monokailight).\n",
    "\n",
    "Pygments can be run from within a python script or from the terminal using a helper command called `pygmentize`. Both methods are demonstrated for comparison.\n",
    "\n",
    "## Input the Python Snippet\n",
    "\n",
    "The code snippet to be highlighted will usually reside in a file or on the clipboard. For the purpose of a self-contained tutorial, it will be input as a string. Since this is predominantly a python blog, it is easy to guess which language is being used."
   ]
  },
  {
   "cell_type": "code",
   "execution_count": 1,
   "metadata": {
    "collapsed": false
   },
   "outputs": [],
   "source": [
    "python_snippet = r\"\"\"\n",
    "#!/usr/bin/env python\n",
    "\n",
    "import numpy as np\n",
    "\n",
    "A = np.random.random((4,4))\n",
    "Ainv = np.linalg.inv(A)\n",
    "\n",
    "print 'A ', A\n",
    "print 'Ainv', Ainv\n",
    "print 'A*Ainv', np.dot(A,Ainv)\"\"\""
   ]
  },
  {
   "cell_type": "markdown",
   "metadata": {},
   "source": [
    "## Syntax Highlighting in Python\n",
    "\n",
    "Pygments is a python module and can be used in the usual fashion to perform syntax highlighting within a python script. This requires the highlighter, lexer, and formatter to be imported. Several formatter options must also be set. First, `full=True` is required to output html with a complete header. Syntax highlighting won't work without this option. Second, the selected style is specified with `style='monokailight'`."
   ]
  },
  {
   "cell_type": "code",
   "execution_count": 2,
   "metadata": {
    "collapsed": false
   },
   "outputs": [],
   "source": [
    "from pygments import highlight\n",
    "from pygments.lexers import PythonLexer\n",
    "from pygments.formatters import HtmlFormatter\n",
    "\n",
    "html_snippet = highlight(python_snippet, PythonLexer(),\n",
    "                         HtmlFormatter(full=True, style='monokailight'))"
   ]
  },
  {
   "cell_type": "markdown",
   "metadata": {},
   "source": [
    "The style names of the snippet conflict with those used by this blog, so a regular expression substitution is needed to modify the style names of the snippet. This subsitution should not be necessary in most other use cases."
   ]
  },
  {
   "cell_type": "code",
   "execution_count": 3,
   "metadata": {
    "collapsed": false
   },
   "outputs": [],
   "source": [
    "import re\n",
    "html_snippet_sub = re.sub(r\"\"\"(body \\.|class=\")\"\"\", r\"\"\"\\1pygm\"\"\",html_snippet)"
   ]
  },
  {
   "cell_type": "markdown",
   "metadata": {},
   "source": [
    "Normally, the output would be saved to a file or sent to the clipboard. For this tutorial, it will be displayed using the `HTML` command, which is one of IPython's powerful [display options](http://nbviewer.ipython.org/urls/raw.github.com/ipython/ipython/1.x/examples/notebooks/Part%205%20-%20Rich%20Display%20System.ipynb)."
   ]
  },
  {
   "cell_type": "code",
   "execution_count": 4,
   "metadata": {
    "collapsed": false
   },
   "outputs": [
    {
     "data": {
      "text/html": [
       "<!DOCTYPE html PUBLIC \"-//W3C//DTD HTML 4.01//EN\"\n",
       "   \"http://www.w3.org/TR/html4/strict.dtd\">\n",
       "\n",
       "<html>\n",
       "<head>\n",
       "  <title></title>\n",
       "  <meta http-equiv=\"content-type\" content=\"text/html; charset=None\">\n",
       "  <style type=\"text/css\">\n",
       "td.linenos { background-color: #f0f0f0; padding-right: 10px; }\n",
       "span.lineno { background-color: #f0f0f0; padding: 0 5px 0 5px; }\n",
       "pre { line-height: 125%; }\n",
       "body .pygmhll { background-color: #e6e3c3 }\n",
       "body  { background: #fafafa; color: #272822 }\n",
       "body .pygmc { color: #75715e } /* Comment */\n",
       "body .pygmerr { color: #960050; background-color: #1e0010 } /* Error */\n",
       "body .pygmk { color: #00a8c8 } /* Keyword */\n",
       "body .pygml { color: #ae81ff } /* Literal */\n",
       "body .pygmn { color: #111111 } /* Name */\n",
       "body .pygmo { color: #f92672 } /* Operator */\n",
       "body .pygmp { color: #111111 } /* Punctuation */\n",
       "body .pygmcm { color: #75715e } /* Comment.Multiline */\n",
       "body .pygmcp { color: #75715e } /* Comment.Preproc */\n",
       "body .pygmc1 { color: #75715e } /* Comment.Single */\n",
       "body .pygmcs { color: #75715e } /* Comment.Special */\n",
       "body .pygmge { font-style: italic } /* Generic.Emph */\n",
       "body .pygmgs { font-weight: bold } /* Generic.Strong */\n",
       "body .pygmkc { color: #00a8c8 } /* Keyword.Constant */\n",
       "body .pygmkd { color: #00a8c8 } /* Keyword.Declaration */\n",
       "body .pygmkn { color: #f92672 } /* Keyword.Namespace */\n",
       "body .pygmkp { color: #00a8c8 } /* Keyword.Pseudo */\n",
       "body .pygmkr { color: #00a8c8 } /* Keyword.Reserved */\n",
       "body .pygmkt { color: #00a8c8 } /* Keyword.Type */\n",
       "body .pygmld { color: #d88200 } /* Literal.Date */\n",
       "body .pygmm { color: #ae81ff } /* Literal.Number */\n",
       "body .pygms { color: #d88200 } /* Literal.String */\n",
       "body .pygmna { color: #75af00 } /* Name.Attribute */\n",
       "body .pygmnb { color: #111111 } /* Name.Builtin */\n",
       "body .pygmnc { color: #75af00 } /* Name.Class */\n",
       "body .pygmno { color: #00a8c8 } /* Name.Constant */\n",
       "body .pygmnd { color: #75af00 } /* Name.Decorator */\n",
       "body .pygmni { color: #111111 } /* Name.Entity */\n",
       "body .pygmne { color: #75af00 } /* Name.Exception */\n",
       "body .pygmnf { color: #75af00 } /* Name.Function */\n",
       "body .pygmnl { color: #111111 } /* Name.Label */\n",
       "body .pygmnn { color: #111111 } /* Name.Namespace */\n",
       "body .pygmnx { color: #75af00 } /* Name.Other */\n",
       "body .pygmpy { color: #111111 } /* Name.Property */\n",
       "body .pygmnt { color: #f92672 } /* Name.Tag */\n",
       "body .pygmnv { color: #111111 } /* Name.Variable */\n",
       "body .pygmow { color: #f92672 } /* Operator.Word */\n",
       "body .pygmw { color: #272822 } /* Text.Whitespace */\n",
       "body .pygmmf { color: #ae81ff } /* Literal.Number.Float */\n",
       "body .pygmmh { color: #ae81ff } /* Literal.Number.Hex */\n",
       "body .pygmmi { color: #ae81ff } /* Literal.Number.Integer */\n",
       "body .pygmmo { color: #ae81ff } /* Literal.Number.Oct */\n",
       "body .pygmsb { color: #d88200 } /* Literal.String.Backtick */\n",
       "body .pygmsc { color: #d88200 } /* Literal.String.Char */\n",
       "body .pygmsd { color: #d88200 } /* Literal.String.Doc */\n",
       "body .pygms2 { color: #d88200 } /* Literal.String.Double */\n",
       "body .pygmse { color: #8045FF } /* Literal.String.Escape */\n",
       "body .pygmsh { color: #d88200 } /* Literal.String.Heredoc */\n",
       "body .pygmsi { color: #d88200 } /* Literal.String.Interpol */\n",
       "body .pygmsx { color: #d88200 } /* Literal.String.Other */\n",
       "body .pygmsr { color: #d88200 } /* Literal.String.Regex */\n",
       "body .pygms1 { color: #d88200 } /* Literal.String.Single */\n",
       "body .pygmss { color: #d88200 } /* Literal.String.Symbol */\n",
       "body .pygmbp { color: #111111 } /* Name.Builtin.Pseudo */\n",
       "body .pygmvc { color: #111111 } /* Name.Variable.Class */\n",
       "body .pygmvg { color: #111111 } /* Name.Variable.Global */\n",
       "body .pygmvi { color: #111111 } /* Name.Variable.Instance */\n",
       "body .pygmil { color: #ae81ff } /* Literal.Number.Integer.Long */\n",
       "\n",
       "  </style>\n",
       "</head>\n",
       "<body>\n",
       "<h2></h2>\n",
       "\n",
       "<div class=\"pygmhighlight\"><pre><span class=\"pygmc\">#!/usr/bin/env python</span>\n",
       "\n",
       "<span class=\"pygmkn\">import</span> <span class=\"pygmnn\">numpy</span> <span class=\"pygmkn\">as</span> <span class=\"pygmnn\">np</span>\n",
       "\n",
       "<span class=\"pygmn\">A</span> <span class=\"pygmo\">=</span> <span class=\"pygmn\">np</span><span class=\"pygmo\">.</span><span class=\"pygmn\">random</span><span class=\"pygmo\">.</span><span class=\"pygmn\">random</span><span class=\"pygmp\">((</span><span class=\"pygmmi\">4</span><span class=\"pygmp\">,</span><span class=\"pygmmi\">4</span><span class=\"pygmp\">))</span>\n",
       "<span class=\"pygmn\">Ainv</span> <span class=\"pygmo\">=</span> <span class=\"pygmn\">np</span><span class=\"pygmo\">.</span><span class=\"pygmn\">linalg</span><span class=\"pygmo\">.</span><span class=\"pygmn\">inv</span><span class=\"pygmp\">(</span><span class=\"pygmn\">A</span><span class=\"pygmp\">)</span>\n",
       "\n",
       "<span class=\"pygmk\">print</span> <span class=\"pygms\">&#39;A &#39;</span><span class=\"pygmp\">,</span> <span class=\"pygmn\">A</span>\n",
       "<span class=\"pygmk\">print</span> <span class=\"pygms\">&#39;Ainv&#39;</span><span class=\"pygmp\">,</span> <span class=\"pygmn\">Ainv</span>\n",
       "<span class=\"pygmk\">print</span> <span class=\"pygms\">&#39;A*Ainv&#39;</span><span class=\"pygmp\">,</span> <span class=\"pygmn\">np</span><span class=\"pygmo\">.</span><span class=\"pygmn\">dot</span><span class=\"pygmp\">(</span><span class=\"pygmn\">A</span><span class=\"pygmp\">,</span><span class=\"pygmn\">Ainv</span><span class=\"pygmp\">)</span>\n",
       "</pre></div>\n",
       "</body>\n",
       "</html>\n"
      ],
      "text/plain": [
       "<IPython.core.display.HTML at 0x10ea6cdd0>"
      ]
     },
     "execution_count": 4,
     "metadata": {},
     "output_type": "execute_result"
    }
   ],
   "source": [
    "from IPython.core.display import HTML\n",
    "HTML(html_snippet_sub)"
   ]
  },
  {
   "cell_type": "markdown",
   "metadata": {},
   "source": [
    "## Highlighting in the Terminal Using Pygmentize\n",
    "\n",
    "The most common way I used Pygments is from the terminal via `pygmentize`, which is an accessory command to Pygments. Here is an example with options similar to those used in the python code above:\n",
    "\n",
    "```bash\n",
    "pygmentize -l python -f html -O full,style=monokailight \\\n",
    "           -o ./python_snippet.html ./python_snippet.py\n",
    "```\n",
    "\n",
    "This command will read the file `python_snippet.py` and output to the file whose name follows the `-o` flag, which is `python_snippet.html` in this case. If the output file is omitted, the html result is returned to the terminal as output. The language (lexer), output format, and options are set with the `-l`, `-f`, and `-O` flags, respectively. The options are `full`, which is analogous to the python `full=True` option and the style selection of monokailight. In many cases, `pygmentize` can guess lexer and output name from the input and output file extensions, so the `-l` and `-f` flags are not always necessary.\n",
    "\n",
    "On Mac OS X, code snippets can be copied to the clipboard, sent to `pygmentize`, and then the syntax highlighted result returned to the clipboard using the `pbpaste` and `pbcopy` commands.\n",
    "\n",
    "```bash\n",
    "pbpaste | pygmentize -l python -f html -O full,style=monokailight | pbcopy\n",
    "```\n",
    "\n",
    "## Customizing Output: Adding Line Numbers\n",
    "\n",
    "There are various options for altering the appearance of the output. Line numbers are one common option, and they can be added with `linenos=True`."
   ]
  },
  {
   "cell_type": "code",
   "execution_count": 5,
   "metadata": {
    "collapsed": false
   },
   "outputs": [],
   "source": [
    "html_snippet_linenos = highlight(python_snippet, PythonLexer(), \n",
    "                                 HtmlFormatter(full=True, style='monokailight', linenos=True))"
   ]
  },
  {
   "cell_type": "markdown",
   "metadata": {},
   "source": [
    "Alternatively, line numbers can be included in `pygmentize` output by adding the option `linenos=1`.\n",
    "\n",
    "```bash\n",
    "pygmentize -l python -f html -O full,style=monokailight,linenos=1 \\\n",
    "-o ./python_snippet_linenos.html ./python_snippet.py\n",
    "```\n",
    "\n",
    "Here is the result with line numbers after again making the necessary modifications to avoid conflicts with styles associated with this blog."
   ]
  },
  {
   "cell_type": "code",
   "execution_count": 6,
   "metadata": {
    "collapsed": false
   },
   "outputs": [
    {
     "data": {
      "text/html": [
       "<!DOCTYPE html PUBLIC \"-//W3C//DTD HTML 4.01//EN\"\n",
       "   \"http://www.w3.org/TR/html4/strict.dtd\">\n",
       "\n",
       "<html>\n",
       "<head>\n",
       "  <title></title>\n",
       "  <meta http-equiv=\"content-type\" content=\"text/html; charset=None\">\n",
       "  <style type=\"text/css\">\n",
       "td.linenos { background-color: #f0f0f0; padding-right: 10px; }\n",
       "span.lineno { background-color: #f0f0f0; padding: 0 5px 0 5px; }\n",
       "pre { line-height: 125%; }\n",
       "body .pygmhll { background-color: #e6e3c3 }\n",
       "body  { background: #fafafa; color: #272822 }\n",
       "body .pygmc { color: #75715e } /* Comment */\n",
       "body .pygmerr { color: #960050; background-color: #1e0010 } /* Error */\n",
       "body .pygmk { color: #00a8c8 } /* Keyword */\n",
       "body .pygml { color: #ae81ff } /* Literal */\n",
       "body .pygmn { color: #111111 } /* Name */\n",
       "body .pygmo { color: #f92672 } /* Operator */\n",
       "body .pygmp { color: #111111 } /* Punctuation */\n",
       "body .pygmcm { color: #75715e } /* Comment.Multiline */\n",
       "body .pygmcp { color: #75715e } /* Comment.Preproc */\n",
       "body .pygmc1 { color: #75715e } /* Comment.Single */\n",
       "body .pygmcs { color: #75715e } /* Comment.Special */\n",
       "body .pygmge { font-style: italic } /* Generic.Emph */\n",
       "body .pygmgs { font-weight: bold } /* Generic.Strong */\n",
       "body .pygmkc { color: #00a8c8 } /* Keyword.Constant */\n",
       "body .pygmkd { color: #00a8c8 } /* Keyword.Declaration */\n",
       "body .pygmkn { color: #f92672 } /* Keyword.Namespace */\n",
       "body .pygmkp { color: #00a8c8 } /* Keyword.Pseudo */\n",
       "body .pygmkr { color: #00a8c8 } /* Keyword.Reserved */\n",
       "body .pygmkt { color: #00a8c8 } /* Keyword.Type */\n",
       "body .pygmld { color: #d88200 } /* Literal.Date */\n",
       "body .pygmm { color: #ae81ff } /* Literal.Number */\n",
       "body .pygms { color: #d88200 } /* Literal.String */\n",
       "body .pygmna { color: #75af00 } /* Name.Attribute */\n",
       "body .pygmnb { color: #111111 } /* Name.Builtin */\n",
       "body .pygmnc { color: #75af00 } /* Name.Class */\n",
       "body .pygmno { color: #00a8c8 } /* Name.Constant */\n",
       "body .pygmnd { color: #75af00 } /* Name.Decorator */\n",
       "body .pygmni { color: #111111 } /* Name.Entity */\n",
       "body .pygmne { color: #75af00 } /* Name.Exception */\n",
       "body .pygmnf { color: #75af00 } /* Name.Function */\n",
       "body .pygmnl { color: #111111 } /* Name.Label */\n",
       "body .pygmnn { color: #111111 } /* Name.Namespace */\n",
       "body .pygmnx { color: #75af00 } /* Name.Other */\n",
       "body .pygmpy { color: #111111 } /* Name.Property */\n",
       "body .pygmnt { color: #f92672 } /* Name.Tag */\n",
       "body .pygmnv { color: #111111 } /* Name.Variable */\n",
       "body .pygmow { color: #f92672 } /* Operator.Word */\n",
       "body .pygmw { color: #272822 } /* Text.Whitespace */\n",
       "body .pygmmf { color: #ae81ff } /* Literal.Number.Float */\n",
       "body .pygmmh { color: #ae81ff } /* Literal.Number.Hex */\n",
       "body .pygmmi { color: #ae81ff } /* Literal.Number.Integer */\n",
       "body .pygmmo { color: #ae81ff } /* Literal.Number.Oct */\n",
       "body .pygmsb { color: #d88200 } /* Literal.String.Backtick */\n",
       "body .pygmsc { color: #d88200 } /* Literal.String.Char */\n",
       "body .pygmsd { color: #d88200 } /* Literal.String.Doc */\n",
       "body .pygms2 { color: #d88200 } /* Literal.String.Double */\n",
       "body .pygmse { color: #8045FF } /* Literal.String.Escape */\n",
       "body .pygmsh { color: #d88200 } /* Literal.String.Heredoc */\n",
       "body .pygmsi { color: #d88200 } /* Literal.String.Interpol */\n",
       "body .pygmsx { color: #d88200 } /* Literal.String.Other */\n",
       "body .pygmsr { color: #d88200 } /* Literal.String.Regex */\n",
       "body .pygms1 { color: #d88200 } /* Literal.String.Single */\n",
       "body .pygmss { color: #d88200 } /* Literal.String.Symbol */\n",
       "body .pygmbp { color: #111111 } /* Name.Builtin.Pseudo */\n",
       "body .pygmvc { color: #111111 } /* Name.Variable.Class */\n",
       "body .pygmvg { color: #111111 } /* Name.Variable.Global */\n",
       "body .pygmvi { color: #111111 } /* Name.Variable.Instance */\n",
       "body .pygmil { color: #ae81ff } /* Literal.Number.Integer.Long */\n",
       "\n",
       "  </style>\n",
       "</head>\n",
       "<body>\n",
       "<h2></h2>\n",
       "\n",
       "<table class=\"pygmhighlighttable\"><tr><td class=\"pygmlinenos\"><div class=\"pygmlinenodiv\"><pre> 1\n",
       " 2\n",
       " 3\n",
       " 4\n",
       " 5\n",
       " 6\n",
       " 7\n",
       " 8\n",
       " 9\n",
       "10</pre></div></td><td class=\"pygmcode\"><div class=\"pygmhighlight\"><pre><span class=\"pygmc\">#!/usr/bin/env python</span>\n",
       "\n",
       "<span class=\"pygmkn\">import</span> <span class=\"pygmnn\">numpy</span> <span class=\"pygmkn\">as</span> <span class=\"pygmnn\">np</span>\n",
       "\n",
       "<span class=\"pygmn\">A</span> <span class=\"pygmo\">=</span> <span class=\"pygmn\">np</span><span class=\"pygmo\">.</span><span class=\"pygmn\">random</span><span class=\"pygmo\">.</span><span class=\"pygmn\">random</span><span class=\"pygmp\">((</span><span class=\"pygmmi\">4</span><span class=\"pygmp\">,</span><span class=\"pygmmi\">4</span><span class=\"pygmp\">))</span>\n",
       "<span class=\"pygmn\">Ainv</span> <span class=\"pygmo\">=</span> <span class=\"pygmn\">np</span><span class=\"pygmo\">.</span><span class=\"pygmn\">linalg</span><span class=\"pygmo\">.</span><span class=\"pygmn\">inv</span><span class=\"pygmp\">(</span><span class=\"pygmn\">A</span><span class=\"pygmp\">)</span>\n",
       "\n",
       "<span class=\"pygmk\">print</span> <span class=\"pygms\">&#39;A &#39;</span><span class=\"pygmp\">,</span> <span class=\"pygmn\">A</span>\n",
       "<span class=\"pygmk\">print</span> <span class=\"pygms\">&#39;Ainv&#39;</span><span class=\"pygmp\">,</span> <span class=\"pygmn\">Ainv</span>\n",
       "<span class=\"pygmk\">print</span> <span class=\"pygms\">&#39;A*Ainv&#39;</span><span class=\"pygmp\">,</span> <span class=\"pygmn\">np</span><span class=\"pygmo\">.</span><span class=\"pygmn\">dot</span><span class=\"pygmp\">(</span><span class=\"pygmn\">A</span><span class=\"pygmp\">,</span><span class=\"pygmn\">Ainv</span><span class=\"pygmp\">)</span>\n",
       "</pre></div>\n",
       "</td></tr></table></body>\n",
       "</html>\n"
      ],
      "text/plain": [
       "<IPython.core.display.HTML at 0x10f045ed0>"
      ]
     },
     "execution_count": 6,
     "metadata": {},
     "output_type": "execute_result"
    }
   ],
   "source": [
    "html_snippet_linenos_sub = re.sub(r\"\"\"(body \\.|class=\")\"\"\", \n",
    "                                  r\"\"\"\\1pygm\"\"\", html_snippet_linenos)\n",
    "HTML(html_snippet_linenos_sub)"
   ]
  },
  {
   "cell_type": "markdown",
   "metadata": {},
   "source": [
    "That's it! Pygments makes it extremely easy to create syntax highlighted code snippets."
   ]
  }
 ],
 "metadata": {
  "kernelspec": {
   "display_name": "Python 2",
   "language": "python",
   "name": "python2"
  },
  "language_info": {
   "codemirror_mode": {
    "name": "ipython",
    "version": 2
   },
   "file_extension": ".py",
   "mimetype": "text/x-python",
   "name": "python",
   "nbconvert_exporter": "python",
   "pygments_lexer": "ipython2",
   "version": "2.7.11"
  }
 },
 "nbformat": 4,
 "nbformat_minor": 0
}
