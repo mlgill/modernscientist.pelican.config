{
 "cells": [
  {
   "cell_type": "markdown",
   "metadata": {},
   "source": [
    "# pdNLS: Pandas-aware non-linear least squares minimization\n",
    "*This notebook first appeared as a [blog](http://themodernscientist.com/posts/2016/2016-07-11-pdNLS_pandas_aware_nonlinear_least_squares_minimization/) post on [themodernscientist](http://themodernscientist.com).  \n",
    "License: [BSD](http://opensource.org/licenses/BSD-3-Clause) (C) 2016, Michelle L. Gill. Feel free to use, distribute, and modify with the above attribution.*"
   ]
  },
  {
   "cell_type": "code",
   "execution_count": 1,
   "metadata": {
    "ExecuteTime": {
     "end_time": "2016-07-11T06:03:45.091758",
     "start_time": "2016-07-11T06:03:42.758443"
    },
    "collapsed": false
   },
   "outputs": [],
   "source": [
    "from __future__ import print_function\n",
    "import os\n",
    "import inspect\n",
    "\n",
    "import numpy as np\n",
    "import pandas as pd\n",
    "\n",
    "import pdNLS\n",
    "from pdNLS import exponential_decay\n",
    "\n",
    "import matplotlib.pyplot as plt\n",
    "import seaborn as sns\n",
    "\n",
    "sns.set_context('talk')\n",
    "sns.set_palette('dark')\n",
    "sns.set_style('ticks')\n",
    "\n",
    "%matplotlib inline"
   ]
  },
  {
   "cell_type": "code",
   "execution_count": 2,
   "metadata": {
    "ExecuteTime": {
     "end_time": "2016-07-11T06:03:45.720663",
     "start_time": "2016-07-11T06:03:45.093856"
    },
    "collapsed": true
   },
   "outputs": [],
   "source": [
    "# This will download the demonstration data for those who want to run the demo\n",
    "import requests\n",
    "\n",
    "r = requests.get('https://raw.githubusercontent.com/mlgill/pdNLS/master/pdNLS/demo/GCN4_twofield.csv')\n",
    "\n",
    "with open('GCN4_twofield.csv', 'w') as fh:\n",
    "    fh.write(r.text)"
   ]
  },
  {
   "cell_type": "markdown",
   "metadata": {},
   "source": [
    "## Overview\n",
    "\n",
    "`pdNLS` is a library for performing non-linear least squares (NLS) minimization. It attempts to seamlessly incorporate this task in a Pandas-focused workflow. Input data are expected in dataframes, and multiple regressions can be performed using functionality similar to Pandas `groupby`. Results are returned as grouped dataframes and include best-fit parameters, statistics, residuals, and more. The results can be easily visualized using [`seaborn`](https://github.com/mwaskom/seaborn).\n",
    "\n",
    "`pdNLS` is related to libraries such as [`statsmodels`](http://statsmodels.sourceforge.net) and [`scikit-learn`](http://scikit-learn.org/stable/) that provide linear regression functions that operate on dataframes. As I was unable to find any that perform non-linear regression, I developed `pdNLS` to fill this niche. \n",
    "\n",
    "`pdNLS` utilizes [`lmfit`](https://github.com/lmfit/lmfit-py), a flexible and powerful library for non-linear least squares minimization, which in turn, makes use of `scipy.optimize.leastsq`. I began using `lmfit` several years ago because I like the flexibility it offers for testing different modeling scenarios and the variety of assessment statistics it provides. However, I found myself writing many `for` loops to perform regressions on groups of data and aggregate the resulting output.\n",
    "\n",
    "Some additional 'niceties' associated with the input of parameters and equations have also been incorporated. `pdNLS` also utilizes multithreading for the calculation of confidence intervals, as this process is time consuming when there are more than a few groups."
   ]
  },
  {
   "cell_type": "markdown",
   "metadata": {},
   "source": [
    "## Minimization setup\n",
    "\n",
    "To demonstrate how to use `pdNLS`, I will be using some sample scientific data. This data is nuclear magnetic resonance (NMR) data acquired at two different magnetic field strengths (14.1 and 21.1 T) on an enzyme called GCN4. \n",
    "\n",
    "There are six amino acids in the enclosed data set (numbered 51 - 56), so using amino acid residue (`resi`) and magnetic field (`field`) as the `groupby` columns means we will need to do 12 NLS minimizations."
   ]
  },
  {
   "cell_type": "code",
   "execution_count": 3,
   "metadata": {
    "ExecuteTime": {
     "end_time": "2016-07-11T06:03:46.081786",
     "start_time": "2016-07-11T06:03:45.940865"
    },
    "collapsed": false,
    "scrolled": true
   },
   "outputs": [
    {
     "name": "stdout",
     "output_type": "stream",
     "text": [
      "resi\tfield\ttime\tintensity\r\n",
      "51\t14.1\t0.004\t1624.219428\r\n",
      "51\t14.1\t0.008\t1491.46728\r\n",
      "51\t14.1\t0.024\t1022.717456\r\n",
      "51\t14.1\t0.064\t448.038543\r\n",
      "51\t14.1\t0.096\t270.116745\r\n",
      "51\t14.1\t0.144\t148.671651\r\n",
      "51\t14.1\t0.208\t103.322608\r\n",
      "52\t14.1\t0.004\t1614.38584\r\n",
      "52\t14.1\t0.008\t1500.47205\r\n"
     ]
    }
   ],
   "source": [
    "! head GCN4_twofield.csv\n",
    "data = pd.read_csv('GCN4_twofield.csv', sep='\\t')"
   ]
  },
  {
   "cell_type": "markdown",
   "metadata": {},
   "source": [
    "We will be analyzing this data to determine the rate of exponential decay as a function of time for every amino acid residue at each of the two magnetic field strengths. The equation looks like this:\n",
    "\n",
    "$I_{(t)} = I_{(0)} \\space e^{(-R * t)}$  \n",
    "\n",
    "where $I_{(0)}$ is the initial intensity, $I_{(t)}$ is the intensity at time $t$, and $R$ is the exponential decay rate. We have $I_{(t)}$ and $t$ from the data above and will use NLS to determine $I_{(0)}$ and $R$."
   ]
  },
  {
   "cell_type": "markdown",
   "metadata": {},
   "source": [
    "## Regression and prediction\n",
    "\n",
    "Parameters for `pdNLS` are entered as a list of dictionaries with the format being similar to that used by [`lmfit`](https://lmfit.github.io/lmfit-py/parameters.html).\n",
    "\n",
    "Performing the regression is quite simple--just call the class `pdNLS` with input parameters set. The `fit` method performs the regression and `predict` calculates a best-fit line at higher resolution for plotting.\n",
    "\n",
    "*TODO: update when I fix the bug in the predict method*"
   ]
  },
  {
   "cell_type": "code",
   "execution_count": 5,
   "metadata": {
    "ExecuteTime": {
     "end_time": "2016-07-11T06:04:26.870674",
     "start_time": "2016-07-11T06:04:25.618775"
    },
    "collapsed": false
   },
   "outputs": [],
   "source": [
    "params = [{'name':'inten', \n",
    "           'value':np.asarray(data.groupby(['resi', 'field']).intensity.max()), \n",
    "           'vary':True},\n",
    "          {'name':'rate', \n",
    "           'value':20.0, \n",
    "           'vary':True}]\n",
    "\n",
    "fit_data = pdNLS.pdNLS(data, exponential_decay, \n",
    "                       ['resi', 'field'], params, \n",
    "                       'time', 'intensity')\n",
    "fit_data.fit()\n",
    "# fit_data.predict()"
   ]
  },
  {
   "cell_type": "markdown",
   "metadata": {},
   "source": [
    "## Results\n",
    "\n",
    "From these simple commands, four output tables are created:\n",
    "\n",
    "* **data** for the input data, calculated data, and residuals\n",
    "* **results**, which contains the best-fit parameters and estimations of their error\n",
    "* **stats** for statistics related to the regression, such as chi-squared and AIC\n",
    "* **model**, which contains a best-fit line created by the `predict` method"
   ]
  },
  {
   "cell_type": "markdown",
   "metadata": {},
   "source": [
    "Let's take a look at a couple of these tables. The **results** table contains best-fit parameters, their standard errors, and confidence intervals."
   ]
  },
  {
   "cell_type": "code",
   "execution_count": 6,
   "metadata": {
    "ExecuteTime": {
     "end_time": "2016-07-11T06:05:15.773418",
     "start_time": "2016-07-11T06:05:15.719250"
    },
    "collapsed": false
   },
   "outputs": [
    {
     "data": {
      "text/html": [
       "<div>\n",
       "<table border=\"1\" class=\"dataframe\">\n",
       "  <thead>\n",
       "    <tr>\n",
       "      <th></th>\n",
       "      <th></th>\n",
       "      <th colspan=\"3\" halign=\"left\">inten</th>\n",
       "      <th colspan=\"3\" halign=\"left\">rate</th>\n",
       "    </tr>\n",
       "    <tr>\n",
       "      <th></th>\n",
       "      <th></th>\n",
       "      <th>value</th>\n",
       "      <th>stderr</th>\n",
       "      <th>ci0.95</th>\n",
       "      <th>value</th>\n",
       "      <th>stderr</th>\n",
       "      <th>ci0.95</th>\n",
       "    </tr>\n",
       "    <tr>\n",
       "      <th>resi</th>\n",
       "      <th>field</th>\n",
       "      <th></th>\n",
       "      <th></th>\n",
       "      <th></th>\n",
       "      <th></th>\n",
       "      <th></th>\n",
       "      <th></th>\n",
       "    </tr>\n",
       "  </thead>\n",
       "  <tbody>\n",
       "    <tr>\n",
       "      <th rowspan=\"2\" valign=\"top\">51</th>\n",
       "      <th>14.1</th>\n",
       "      <td>1714.801224</td>\n",
       "      <td>37.873598</td>\n",
       "      <td>58.412803</td>\n",
       "      <td>19.650244</td>\n",
       "      <td>1.017596</td>\n",
       "      <td>1.737309</td>\n",
       "    </tr>\n",
       "    <tr>\n",
       "      <th>21.1</th>\n",
       "      <td>61172.422208</td>\n",
       "      <td>2056.605717</td>\n",
       "      <td>3233.839208</td>\n",
       "      <td>21.244426</td>\n",
       "      <td>1.632509</td>\n",
       "      <td>2.747193</td>\n",
       "    </tr>\n",
       "    <tr>\n",
       "      <th rowspan=\"2\" valign=\"top\">52</th>\n",
       "      <th>14.1</th>\n",
       "      <td>1778.899941</td>\n",
       "      <td>17.866286</td>\n",
       "      <td>32.098115</td>\n",
       "      <td>23.354822</td>\n",
       "      <td>0.487731</td>\n",
       "      <td>0.961983</td>\n",
       "    </tr>\n",
       "    <tr>\n",
       "      <th>21.1</th>\n",
       "      <td>72392.056557</td>\n",
       "      <td>511.164845</td>\n",
       "      <td>899.609872</td>\n",
       "      <td>32.172892</td>\n",
       "      <td>0.899967</td>\n",
       "      <td>1.359184</td>\n",
       "    </tr>\n",
       "  </tbody>\n",
       "</table>\n",
       "</div>"
      ],
      "text/plain": [
       "                   inten                                 rate            \\\n",
       "                   value       stderr       ci0.95      value    stderr   \n",
       "resi field                                                                \n",
       "51   14.1    1714.801224    37.873598    58.412803  19.650244  1.017596   \n",
       "     21.1   61172.422208  2056.605717  3233.839208  21.244426  1.632509   \n",
       "52   14.1    1778.899941    17.866286    32.098115  23.354822  0.487731   \n",
       "     21.1   72392.056557   511.164845   899.609872  32.172892  0.899967   \n",
       "\n",
       "                      \n",
       "              ci0.95  \n",
       "resi field            \n",
       "51   14.1   1.737309  \n",
       "     21.1   2.747193  \n",
       "52   14.1   0.961983  \n",
       "     21.1   1.359184  "
      ]
     },
     "execution_count": 6,
     "metadata": {},
     "output_type": "execute_result"
    }
   ],
   "source": [
    "fit_data.results.head(n=4)"
   ]
  },
  {
   "cell_type": "markdown",
   "metadata": {},
   "source": [
    "The **stats** table contains the following statistics for each of the regression groups:\n",
    "\n",
    "* Number of observations (`nobs`)\n",
    "* Number of fit parameters (`npar`)\n",
    "* Degrees of freedom (`dof`)\n",
    "* Chi-squared (`chisqr`)\n",
    "* Reduced chi-squared (`redchi`)\n",
    "* Akaike information criterion (`aic`)\n",
    "* Bayesian information criterion (`bic`)\n",
    "* Covariance matrix (`covar`)"
   ]
  },
  {
   "cell_type": "code",
   "execution_count": 7,
   "metadata": {
    "ExecuteTime": {
     "end_time": "2016-07-11T06:05:38.273926",
     "start_time": "2016-07-11T06:05:38.219774"
    },
    "collapsed": false,
    "scrolled": false
   },
   "outputs": [
    {
     "data": {
      "text/html": [
       "<div>\n",
       "<table border=\"1\" class=\"dataframe\">\n",
       "  <thead>\n",
       "    <tr style=\"text-align: right;\">\n",
       "      <th></th>\n",
       "      <th></th>\n",
       "      <th>nobs</th>\n",
       "      <th>npar</th>\n",
       "      <th>dof</th>\n",
       "      <th>chisqr</th>\n",
       "      <th>redchi</th>\n",
       "      <th>aic</th>\n",
       "      <th>bic</th>\n",
       "      <th>covar</th>\n",
       "    </tr>\n",
       "    <tr>\n",
       "      <th>resi</th>\n",
       "      <th>field</th>\n",
       "      <th></th>\n",
       "      <th></th>\n",
       "      <th></th>\n",
       "      <th></th>\n",
       "      <th></th>\n",
       "      <th></th>\n",
       "      <th></th>\n",
       "      <th></th>\n",
       "    </tr>\n",
       "  </thead>\n",
       "  <tbody>\n",
       "    <tr>\n",
       "      <th rowspan=\"2\" valign=\"top\">51</th>\n",
       "      <th>14.1</th>\n",
       "      <td>7</td>\n",
       "      <td>2</td>\n",
       "      <td>5</td>\n",
       "      <td>4.618933e+07</td>\n",
       "      <td>9.237866e+06</td>\n",
       "      <td>116.271750</td>\n",
       "      <td>116.163570</td>\n",
       "      <td>[[1434.40941598, 25.1920994106], [25.192099410...</td>\n",
       "    </tr>\n",
       "    <tr>\n",
       "      <th>21.1</th>\n",
       "      <td>7</td>\n",
       "      <td>2</td>\n",
       "      <td>5</td>\n",
       "      <td>3.867213e+14</td>\n",
       "      <td>7.734425e+13</td>\n",
       "      <td>227.855012</td>\n",
       "      <td>227.746832</td>\n",
       "      <td>[[4229627.07654, 2206.79019345], [2206.7901934...</td>\n",
       "    </tr>\n",
       "    <tr>\n",
       "      <th rowspan=\"2\" valign=\"top\">52</th>\n",
       "      <th>14.1</th>\n",
       "      <td>7</td>\n",
       "      <td>2</td>\n",
       "      <td>5</td>\n",
       "      <td>2.013268e+06</td>\n",
       "      <td>4.026536e+05</td>\n",
       "      <td>94.340823</td>\n",
       "      <td>94.232643</td>\n",
       "      <td>[[319.204188624, 6.64745810301], [6.6474581030...</td>\n",
       "    </tr>\n",
       "    <tr>\n",
       "      <th>21.1</th>\n",
       "      <td>7</td>\n",
       "      <td>2</td>\n",
       "      <td>5</td>\n",
       "      <td>2.469331e+12</td>\n",
       "      <td>4.938662e+11</td>\n",
       "      <td>192.478713</td>\n",
       "      <td>192.370534</td>\n",
       "      <td>[[261289.498533, 362.755226131], [362.75522613...</td>\n",
       "    </tr>\n",
       "  </tbody>\n",
       "</table>\n",
       "</div>"
      ],
      "text/plain": [
       "            nobs  npar  dof        chisqr        redchi         aic  \\\n",
       "resi field                                                            \n",
       "51   14.1      7     2    5  4.618933e+07  9.237866e+06  116.271750   \n",
       "     21.1      7     2    5  3.867213e+14  7.734425e+13  227.855012   \n",
       "52   14.1      7     2    5  2.013268e+06  4.026536e+05   94.340823   \n",
       "     21.1      7     2    5  2.469331e+12  4.938662e+11  192.478713   \n",
       "\n",
       "                   bic                                              covar  \n",
       "resi field                                                                 \n",
       "51   14.1   116.163570  [[1434.40941598, 25.1920994106], [25.192099410...  \n",
       "     21.1   227.746832  [[4229627.07654, 2206.79019345], [2206.7901934...  \n",
       "52   14.1    94.232643  [[319.204188624, 6.64745810301], [6.6474581030...  \n",
       "     21.1   192.370534  [[261289.498533, 362.755226131], [362.75522613...  "
      ]
     },
     "execution_count": 7,
     "metadata": {},
     "output_type": "execute_result"
    }
   ],
   "source": [
    "fit_data.stats.head(n=4)"
   ]
  },
  {
   "cell_type": "markdown",
   "metadata": {},
   "source": [
    "It is also easy to access a single covariance matrix for calculations."
   ]
  },
  {
   "cell_type": "code",
   "execution_count": 10,
   "metadata": {
    "ExecuteTime": {
     "end_time": "2016-07-11T06:05:56.681397",
     "start_time": "2016-07-11T06:05:56.673223"
    },
    "collapsed": false
   },
   "outputs": [
    {
     "data": {
      "text/plain": [
       "array([[  1.43440942e+03,   2.51920994e+01],\n",
       "       [  2.51920994e+01,   1.03550172e+00]])"
      ]
     },
     "execution_count": 10,
     "metadata": {},
     "output_type": "execute_result"
    }
   ],
   "source": [
    "fit_data.stats.covar.loc[(51, 14.1)]"
   ]
  },
  {
   "cell_type": "markdown",
   "metadata": {},
   "source": [
    "## Visualization\n",
    "\n",
    "The results can be visualized in facet plots with Seaborn. To make it easier to view the data, all intensities have been normalized.  \n",
    "\n",
    "*TODO: best-fit line will be added when `predict` method is fixed.*"
   ]
  },
  {
   "cell_type": "code",
   "execution_count": 11,
   "metadata": {
    "ExecuteTime": {
     "end_time": "2016-07-11T06:06:01.869575",
     "start_time": "2016-07-11T06:06:01.860109"
    },
    "collapsed": false
   },
   "outputs": [],
   "source": [
    "fit_itensities = (fit_data.results\n",
    "                  .loc[:,('inten','value')]\n",
    "                  .to_frame()\n",
    "                  )\n",
    "\n",
    "fit_itensities.columns=['inten_fit']"
   ]
  },
  {
   "cell_type": "code",
   "execution_count": 12,
   "metadata": {
    "ExecuteTime": {
     "end_time": "2016-07-11T06:06:02.419176",
     "start_time": "2016-07-11T06:06:02.404207"
    },
    "collapsed": false
   },
   "outputs": [],
   "source": [
    "fit_data.data = pd.merge(fit_data.data,\n",
    "                         fit_itensities,\n",
    "                         left_index=True,\n",
    "                         right_index=True,\n",
    "                         how='left'\n",
    "                        )\n",
    "\n",
    "fit_data.data['intensity'] /= fit_data.data.inten_fit\n",
    "#fit_data.data['ycalc'] /= fit_data.data.inten_fit"
   ]
  },
  {
   "cell_type": "code",
   "execution_count": 13,
   "metadata": {
    "ExecuteTime": {
     "end_time": "2016-07-11T06:06:05.897213",
     "start_time": "2016-07-11T06:06:04.661983"
    },
    "collapsed": false
   },
   "outputs": [
    {
     "data": {
      "image/png": "[encoded data removed]",
      "text/plain": [
       "<matplotlib.figure.Figure at 0x11a258a10>"
      ]
     },
     "metadata": {},
     "output_type": "display_data"
    }
   ],
   "source": [
    "plot_data = fit_data.data.reset_index()\n",
    "\n",
    "grid = sns.FacetGrid(plot_data, col='resi', hue='field', #palette=palette,\n",
    "                     col_wrap=3, size=2.0, aspect=0.75, \n",
    "                     sharey=True, despine=True)\n",
    "\n",
    "# grid.map(plt.plot, 'time', 'ycalc', marker='', ls='-')\n",
    "grid.map(plt.plot, 'time', 'intensity', marker='o', ms=5, ls='')\n",
    "\n",
    "grid.set(xticks=np.linspace(0.05, 0.25, 5),\n",
    "         ylim=(-0.1, 1.05))\n",
    "\n",
    "legend = grid.axes[-1].legend(loc=0, frameon=True)\n",
    "legend.get_frame().set_linewidth(0.75)\n",
    "\n",
    "f = plt.gcf()\n",
    "f.set_size_inches(12,8)\n",
    "f.subplots_adjust(wspace=0.2, hspace=0.25)"
   ]
  },
  {
   "cell_type": "markdown",
   "metadata": {},
   "source": [
    "Just for fun, here's a bar graph of the decay rates determined from NLS.\n",
    "\n",
    "*TODO: could probably remove the plot below since this post is long.*"
   ]
  },
  {
   "cell_type": "code",
   "execution_count": 21,
   "metadata": {
    "ExecuteTime": {
     "end_time": "2016-07-11T06:10:16.544135",
     "start_time": "2016-07-11T06:10:15.973224"
    },
    "collapsed": false
   },
   "outputs": [
    {
     "data": {
      "image/png": "[encoded data removed]",
      "text/plain": [
       "<matplotlib.figure.Figure at 0x11c5745d0>"
      ]
     },
     "metadata": {},
     "output_type": "display_data"
    }
   ],
   "source": [
    "plot_data = (fit_data.results\n",
    "             .sort_index(axis=1)\n",
    "             .loc[:,('rate',['value','stderr'])]\n",
    "             )\n",
    "plot_data.columns = plot_data.columns.droplevel(0)\n",
    "plot_data.reset_index(inplace=True)\n",
    "\n",
    "fig = plt.figure()\n",
    "fig.set_size_inches(7,5)\n",
    "ax = plt.axes()\n",
    "\n",
    "colors = sns.color_palette()\n",
    "\n",
    "for pos, (field, dat) in enumerate(plot_data.groupby('field')):\n",
    "    _ = dat.plot('resi', 'value', yerr='stderr',\n",
    "                 kind='bar', label=field, color=colors[pos],\n",
    "                 position=(-pos)+1, ax=ax, width=0.4)\n",
    "    \n",
    "ax.set_ylabel('Decay Rate (s$^{-1}$)')\n",
    "ax.set_xlabel('Residue')\n",
    "ax.set_xlim(ax.get_xlim()[0]-0.5, ax.get_xlim()[1])\n",
    "plt.xticks(rotation=0)\n",
    "\n",
    "sns.despine()\n",
    "plt.tight_layout()"
   ]
  },
  {
   "cell_type": "code",
   "execution_count": 22,
   "metadata": {
    "ExecuteTime": {
     "end_time": "2016-07-11T06:10:20.113821",
     "start_time": "2016-07-11T06:10:19.963579"
    },
    "collapsed": false
   },
   "outputs": [],
   "source": [
    "! rm ./GCN4_twofield.csv"
   ]
  }
 ],
 "metadata": {
  "kernelspec": {
   "display_name": "Python 2",
   "language": "python",
   "name": "python2"
  },
  "language_info": {
   "codemirror_mode": {
    "name": "ipython",
    "version": 2
   },
   "file_extension": ".py",
   "mimetype": "text/x-python",
   "name": "python",
   "nbconvert_exporter": "python",
   "pygments_lexer": "ipython2",
   "version": "2.7.12"
  }
 },
 "nbformat": 4,
 "nbformat_minor": 0
}
